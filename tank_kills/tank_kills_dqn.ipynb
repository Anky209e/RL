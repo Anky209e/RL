{
 "cells": [
  {
   "cell_type": "code",
   "execution_count": 1,
   "metadata": {},
   "outputs": [
    {
     "name": "stdout",
     "output_type": "stream",
     "text": [
      "pygame 2.2.0 (SDL 2.0.22, Python 3.10.8)\n",
      "Hello from the pygame community. https://www.pygame.org/contribute.html\n"
     ]
    },
    {
     "name": "stderr",
     "output_type": "stream",
     "text": [
      "2023-03-10 14:48:21.197697: I tensorflow/core/platform/cpu_feature_guard.cc:193] This TensorFlow binary is optimized with oneAPI Deep Neural Network Library (oneDNN) to use the following CPU instructions in performance-critical operations:  AVX2 FMA\n",
      "To enable them in other operations, rebuild TensorFlow with the appropriate compiler flags.\n",
      "2023-03-10 14:48:21.977270: W tensorflow/compiler/xla/stream_executor/platform/default/dso_loader.cc:64] Could not load dynamic library 'libnvinfer.so.7'; dlerror: libnvinfer.so.7: cannot open shared object file: No such file or directory\n",
      "2023-03-10 14:48:21.977352: W tensorflow/compiler/xla/stream_executor/platform/default/dso_loader.cc:64] Could not load dynamic library 'libnvinfer_plugin.so.7'; dlerror: libnvinfer_plugin.so.7: cannot open shared object file: No such file or directory\n",
      "2023-03-10 14:48:21.977362: W tensorflow/compiler/tf2tensorrt/utils/py_utils.cc:38] TF-TRT Warning: Cannot dlopen some TensorRT libraries. If you would like to use Nvidia GPU with TensorRT, please make sure the missing libraries mentioned above are installed properly.\n"
     ]
    }
   ],
   "source": [
    "from tank_kills_v3 import TankKills\n",
    "from collections import deque\n",
    "import torch\n",
    "import torch.nn as nn\n",
    "import matplotlib.pyplot as plt\n",
    "import random\n",
    "import numpy as np\n",
    "import json\n",
    "import os\n",
    "import pygame\n",
    "\n",
    "from torch.utils.tensorboard import SummaryWriter\n",
    "writer = SummaryWriter('runs/dqn_tank_kills')"
   ]
  },
  {
   "cell_type": "code",
   "execution_count": 2,
   "metadata": {},
   "outputs": [
    {
     "data": {
      "text/plain": [
       "device(type='cuda')"
      ]
     },
     "execution_count": 2,
     "metadata": {},
     "output_type": "execute_result"
    }
   ],
   "source": [
    "device = torch.device(\"cuda\" if torch.cuda.is_available() else \"cpu\")\n",
    "device"
   ]
  },
  {
   "cell_type": "code",
   "execution_count": 3,
   "metadata": {},
   "outputs": [
    {
     "data": {
      "text/plain": [
       "VfApproxModel(\n",
       "  (layer_1): Linear(in_features=4, out_features=10, bias=True)\n",
       "  (layer_2): Linear(in_features=10, out_features=10, bias=True)\n",
       "  (layer_3): Linear(in_features=10, out_features=4, bias=True)\n",
       "  (relu): ReLU()\n",
       ")"
      ]
     },
     "execution_count": 3,
     "metadata": {},
     "output_type": "execute_result"
    }
   ],
   "source": [
    "class VfApproxModel(nn.Module):\n",
    "    \"\"\"Neural Network for Value Function Approximation\\n\n",
    "    Contains Three layers 4->10->10->4\n",
    "    \"\"\"\n",
    "    def __init__(self):\n",
    "        super().__init__()\n",
    "        # Input will be [player_x,player_y,enemy_x,enemy_y]\n",
    "        # NOTE: Later on we will provide s,a,r,s,a\n",
    "        self.layer_1 = nn.Linear(in_features=4,out_features=10)\n",
    "        self.layer_2 = nn.Linear(in_features=10,out_features=10)\n",
    "        self.layer_3 = nn.Linear(in_features=10,out_features=4) # 4 actions as output\n",
    "        self.relu = nn.ReLU()\n",
    "    \n",
    "    def forward(self,features):\n",
    "        out = self.relu(self.layer_1(features))\n",
    "        out = self.relu(self.layer_2(out))\n",
    "        out = self.layer_3(out)\n",
    "        # using softmax as action-selection policy\n",
    "        # out = torch.softmax(out,-1)\n",
    "        return out\n",
    "\n",
    "value_function = VfApproxModel()\n",
    "value_function.to(device)"
   ]
  },
  {
   "attachments": {},
   "cell_type": "markdown",
   "metadata": {},
   "source": [
    "<img src=\"https://huggingface.co/datasets/huggingface-deep-rl-course/course-images/resolve/main/en/unit4/Q-target.jpg\" style=\"height:400px;width:50%;float:left;\">\n",
    "\n",
    "<img src=\"https://huggingface.co/datasets/huggingface-deep-rl-course/course-images/resolve/main/en/unit4/sampling-training.jpg\" style=\"height:400px;width:50%;float:right;\">"
   ]
  },
  {
   "cell_type": "code",
   "execution_count": null,
   "metadata": {},
   "outputs": [],
   "source": [
    "class Agent:\n",
    "    \"\"\"Main Agent Class Contiaining replay Memory and all learning params\"\"\"\n",
    "    def __init__(self,replay_length,learning_rate,epsilon,max_epsilon,min_epsilon,epsilon_decay,gamma,action_size,value_function):\n",
    "        self.replay_memory = deque(maxlen=replay_length)\n",
    "        self.learning_rate = learning_rate\n",
    "        self.epsilon = epsilon\n",
    "        self.max_epsilon = max_epsilon\n",
    "        self.min_epsilon = min_epsilon\n",
    "        self.epsilon_decay = epsilon_decay\n",
    "        self.gamma = gamma\n",
    "        self.action_size = action_size\n",
    "        self.value_function = value_function\n",
    "        self.loss_fn = nn.SmoothL1Loss()\n",
    "        self.opt  = torch.optim.AdamW(value_function.parameters(), lr=learning_rate, amsgrad=True)\n",
    "        self.epsilon_list = []\n",
    "        self.losses =  []\n",
    "\n",
    "    def add_experience(self,new_state,reward,running,state,action):\n",
    "        \"\"\"\n",
    "            Adds Experience into replay_memory\n",
    "            new_state = [new_player_x,new_player_y,new_enemy_x,new_enemy_y]\n",
    "            state = [player_x,player_y,enemy_x,enemy_y]\n",
    "            new_state ans state both are torch tensors\n",
    "        \"\"\"\n",
    "        self.replay_memory.append((new_state,reward,running,state,action))\n",
    "    \n",
    "    \n",
    "    def action(self,state):\n",
    "        \"\"\"For Taking action using e-greedy\"\"\"\n",
    "\n",
    "        if np.random.rand() > self.epsilon:\n",
    "            return np.random.randint(0,3)\n",
    "        out = self.value_function(state)\n",
    "        out = out.cpu().detach().numpy()\n",
    "        return np.argmax(out)\n",
    "    \n",
    "    \n",
    "    def greedy_action(self,state):\n",
    "        \"\"\"Predicts a action greedily only using value function\"\"\"\n",
    "\n",
    "        out = self.value_function(state)\n",
    "        out = out.cpu().detach().numpy()\n",
    "        return np.argmax(out)\n",
    "    \n",
    "    \n",
    "    def replay(self,batch_size,episode):\n",
    "        \"\"\"Learning From Experience Replay\"\"\"\n",
    "        \n",
    "        # batch size is how many batches you want to iterate to learn over\n",
    "        batch = random.sample(self.replay_memory,batch_size)\n",
    "        # NOTE: new_state and state should be torch tensor \n",
    "        for new_state,reward,running,state,action in batch:\n",
    "            target = reward\n",
    "            \n",
    "            if running:\n",
    "                \n",
    "                target = self.value_function(new_state)\n",
    "                target = target.cpu().detach().numpy()\n",
    "                target = reward + self.gamma * np.amax(target)\n",
    "                target = torch.tensor(target,dtype=torch.float32,device=device,requires_grad=True)\n",
    "\n",
    "                former_target = self.value_function(state)\n",
    "                former_target = former_target.cpu().detach().numpy()\n",
    "                former_target = np.amax(former_target)\n",
    "                former_target = torch.tensor(former_target,dtype=torch.float32,device=device,requires_grad=True)\n",
    "\n",
    "                loss = self.loss_fn(target,former_target)\n",
    "                \n",
    "                self.opt.zero_grad()\n",
    "                loss.backward()\n",
    "                self.opt.step()\n",
    "            \n",
    "            self.epsilon_list.append(self.epsilon)\n",
    "\n",
    "    def save_weights(self,path):\n",
    "        \"\"\"Save Current State weights\"\"\"\n",
    "        torch.save(self.value_function.state_dict(),path)\n"
   ]
  },
  {
   "cell_type": "code",
   "execution_count": null,
   "metadata": {},
   "outputs": [],
   "source": [
    "all_actions = [\"up\",\"right\",\"down\",\"left\"]\n",
    "num_episodes = 2\n",
    "\n",
    "learning_rate = 0.0001 # alpha\n",
    "discount_factor = 0.90 # gamma\n",
    "\n",
    "exploration_rate = 1\n",
    "max_exploration_rate = 1\n",
    "min_exploration_rate = 0.001\n",
    "exploration_decay_rate = 0.0007\n",
    "\n",
    "replay_length = 30000 # Replay memory (D) or length (N)\n",
    "batch_size = 2 # Batch size to train on replay buffer"
   ]
  },
  {
   "cell_type": "code",
   "execution_count": null,
   "metadata": {},
   "outputs": [],
   "source": [
    "agent = Agent(\n",
    "    replay_length=replay_length,\n",
    "    learning_rate=learning_rate,\n",
    "    epsilon=exploration_rate,\n",
    "    max_epsilon=max_exploration_rate,\n",
    "    min_epsilon=min_exploration_rate,\n",
    "    epsilon_decay=exploration_decay_rate,\n",
    "    gamma=discount_factor,\n",
    "    action_size=4,\n",
    "    value_function=value_function\n",
    ")"
   ]
  },
  {
   "cell_type": "code",
   "execution_count": null,
   "metadata": {},
   "outputs": [],
   "source": [
    "for episode in range(num_episodes):\n",
    "    env = TankKills(600,600)\n",
    "    state = [300,400,0,0]\n",
    "    state = torch.tensor(state,dtype=torch.float32,device=device)\n",
    "    running = True\n",
    "    loss_list = []\n",
    "    targets_list = []\n",
    "    preds_list = []\n",
    "    \n",
    "    while running:\n",
    "        torch.cuda.empty_cache()\n",
    "        exploration_rate_threshold = random.uniform(0,1)\n",
    "        if exploration_rate_threshold > agent.epsilon:\n",
    "            action = agent.greedy_action(state)\n",
    "        else:\n",
    "            action = random.randint(0,3)\n",
    "        \n",
    "        running,reward,score,pp,ep = env.play(action=all_actions[action])\n",
    "\n",
    "        new_state = [pp[0],pp[1],ep[0],ep[1]]\n",
    "        new_state = torch.tensor(new_state,dtype=torch.float32,device=device)\n",
    "        # print(new_state)\n",
    "        target = agent.value_function(new_state)\n",
    "        # print(target)\n",
    "        target = target.cpu().detach().numpy()\n",
    "        target = reward + agent.gamma * np.amax(target)\n",
    "        target = torch.tensor(target,dtype=torch.float32,device=device,requires_grad=True)\n",
    "\n",
    "        former_target = agent.value_function(state)\n",
    "        former_target = former_target.cpu().detach().numpy()\n",
    "        former_target = np.amax(former_target)\n",
    "        former_target = torch.tensor(former_target,dtype=torch.float32,device=device,requires_grad=True)\n",
    "\n",
    "        # print(target,former_target)\n",
    "        loss = agent.loss_fn(target,former_target)\n",
    "        print(loss)\n",
    "        \n",
    "        loss.backward()\n",
    "        agent.opt.step()\n",
    "        loss_list.append(loss.item())\n",
    "        agent.opt.zero_grad()\n",
    "\n",
    "        \n",
    "        agent.epsilon = (agent.max_epsilon-agent.min_epsilon) * np.exp(-agent.epsilon_decay*episode) + agent.min_epsilon\n",
    "        agent.add_experience(new_state,reward,running,state,action)\n",
    "        state = new_state\n",
    "\n",
    "    # writer.add_scalar('Score',score,episode)\n",
    "    # writer.add_scalar('Rewards',reward,episode)\n",
    "    # writer.add_scalar('No. of actions',action_taken_in_episode,episode)\n",
    "    # writer.add_histogram('Actions Taken',np.array(actions_taken_in_episode))\n",
    "    # writer.close()\n",
    "        \n",
    "        \n",
    "    if len(agent.replay_memory) > batch_size:\n",
    "        print(\"Training on replay..\")\n",
    "        agent.replay(batch_size,episode)\n",
    "\n",
    "pygame.display.quit() "
   ]
  },
  {
   "cell_type": "code",
   "execution_count": null,
   "metadata": {},
   "outputs": [],
   "source": [
    "agent.save_weights(\"weights_1.pth\")"
   ]
  },
  {
   "cell_type": "code",
   "execution_count": null,
   "metadata": {},
   "outputs": [],
   "source": [
    "plt.plot(loss_list)\n",
    "plt.show()"
   ]
  },
  {
   "cell_type": "code",
   "execution_count": null,
   "metadata": {},
   "outputs": [],
   "source": [
    "pygame.display.quit() "
   ]
  }
 ],
 "metadata": {
  "kernelspec": {
   "display_name": "Python 3",
   "language": "python",
   "name": "python3"
  },
  "language_info": {
   "codemirror_mode": {
    "name": "ipython",
    "version": 3
   },
   "file_extension": ".py",
   "mimetype": "text/x-python",
   "name": "python",
   "nbconvert_exporter": "python",
   "pygments_lexer": "ipython3",
   "version": "3.10.8"
  },
  "orig_nbformat": 4
 },
 "nbformat": 4,
 "nbformat_minor": 2
}
