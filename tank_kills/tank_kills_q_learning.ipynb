{
 "cells": [
  {
   "cell_type": "code",
   "execution_count": 20,
   "metadata": {},
   "outputs": [
    {
     "name": "stderr",
     "output_type": "stream",
     "text": [
      "2023-03-05 21:31:42.081893: I tensorflow/core/platform/cpu_feature_guard.cc:193] This TensorFlow binary is optimized with oneAPI Deep Neural Network Library (oneDNN) to use the following CPU instructions in performance-critical operations:  AVX2 FMA\n",
      "To enable them in other operations, rebuild TensorFlow with the appropriate compiler flags.\n",
      "2023-03-05 21:31:43.332496: W tensorflow/compiler/xla/stream_executor/platform/default/dso_loader.cc:64] Could not load dynamic library 'libnvinfer.so.7'; dlerror: libnvinfer.so.7: cannot open shared object file: No such file or directory\n",
      "2023-03-05 21:31:43.332644: W tensorflow/compiler/xla/stream_executor/platform/default/dso_loader.cc:64] Could not load dynamic library 'libnvinfer_plugin.so.7'; dlerror: libnvinfer_plugin.so.7: cannot open shared object file: No such file or directory\n",
      "2023-03-05 21:31:43.332653: W tensorflow/compiler/tf2tensorrt/utils/py_utils.cc:38] TF-TRT Warning: Cannot dlopen some TensorRT libraries. If you would like to use Nvidia GPU with TensorRT, please make sure the missing libraries mentioned above are installed properly.\n"
     ]
    }
   ],
   "source": [
    "from tank_kills_v3 import TankKills\n",
    "import random\n",
    "from pynput.keyboard import Controller,Key\n",
    "import time\n",
    "import pygame\n",
    "import matplotlib.pyplot as plt\n",
    "import numpy as np\n",
    "import json\n",
    "from torch.utils.tensorboard import SummaryWriter\n",
    "writer = SummaryWriter('runs/q_table_tank_kills')\n"
   ]
  },
  {
   "cell_type": "code",
   "execution_count": null,
   "metadata": {},
   "outputs": [],
   "source": [
    "ins = [\n",
    "    Key.up,\n",
    "    Key.right,\n",
    "    Key.down,\n",
    "    Key.left\n",
    "    ]"
   ]
  },
  {
   "cell_type": "code",
   "execution_count": 2,
   "metadata": {},
   "outputs": [],
   "source": [
    "all_actions = [\"up\",\"right\",\"down\",\"left\"]"
   ]
  },
  {
   "cell_type": "code",
   "execution_count": null,
   "metadata": {},
   "outputs": [],
   "source": [
    "keyboard = Controller()"
   ]
  },
  {
   "attachments": {},
   "cell_type": "markdown",
   "metadata": {},
   "source": [
    "### Loading Q_table"
   ]
  },
  {
   "cell_type": "code",
   "execution_count": 39,
   "metadata": {},
   "outputs": [],
   "source": [
    "with open('q_table_2.json','r') as f:\n",
    "    data = json.load(f)\n",
    "q_table = np.array(data['q_table'])"
   ]
  },
  {
   "cell_type": "code",
   "execution_count": 40,
   "metadata": {},
   "outputs": [
    {
     "data": {
      "text/plain": [
       "array([[-13.77265541, -13.57731268,  -9.70999752, -13.63958378],\n",
       "       [  0.        ,   0.        ,   0.        ,   0.        ],\n",
       "       [  0.        ,   0.        ,   0.        ,   0.        ],\n",
       "       ...,\n",
       "       [  0.        ,   0.        ,   0.        ,   0.        ],\n",
       "       [  0.        ,   0.        ,   0.        ,   0.        ],\n",
       "       [  0.        ,   0.        ,   0.        ,   0.        ]])"
      ]
     },
     "execution_count": 40,
     "metadata": {},
     "output_type": "execute_result"
    }
   ],
   "source": [
    "q_table"
   ]
  },
  {
   "cell_type": "code",
   "execution_count": 3,
   "metadata": {},
   "outputs": [
    {
     "data": {
      "text/plain": [
       "array([[0., 0., 0., 0.],\n",
       "       [0., 0., 0., 0.],\n",
       "       [0., 0., 0., 0.],\n",
       "       ...,\n",
       "       [0., 0., 0., 0.],\n",
       "       [0., 0., 0., 0.],\n",
       "       [0., 0., 0., 0.]])"
      ]
     },
     "execution_count": 3,
     "metadata": {},
     "output_type": "execute_result"
    }
   ],
   "source": [
    "# q_table = np.zeros((600*600,4))\n",
    "# q_table"
   ]
  },
  {
   "cell_type": "code",
   "execution_count": 41,
   "metadata": {},
   "outputs": [
    {
     "data": {
      "text/plain": [
       "array([-23.21454695, -23.82131142, -23.30592129, -24.41855108])"
      ]
     },
     "execution_count": 41,
     "metadata": {},
     "output_type": "execute_result"
    }
   ],
   "source": [
    "q_table[300*400]"
   ]
  },
  {
   "cell_type": "code",
   "execution_count": 42,
   "metadata": {},
   "outputs": [],
   "source": [
    "num_episodes = 50\n",
    "# max_steps_per_episode = 5\n",
    "learning_rate = 0.1 # alpha\n",
    "discount_factor = 0.90 # gamma\n",
    "\n",
    "exploration_rate = 1\n",
    "max_exploration_rate = 1\n",
    "min_exploration_rate = 0.01\n",
    "exploration_decay_rate = 0.007"
   ]
  },
  {
   "cell_type": "code",
   "execution_count": 43,
   "metadata": {},
   "outputs": [
    {
     "name": "stdout",
     "output_type": "stream",
     "text": [
      "-------Game: 1/50-------\n",
      "-- Score: 0\n",
      "-- Total Actions Taken: 2041\n",
      "-------Game: 2/50-------\n",
      "-- Score: 0\n",
      "-- Total Actions Taken: 2046\n",
      "-------Game: 3/50-------\n",
      "-- Score: 0\n",
      "-- Total Actions Taken: 2026\n",
      "-------Game: 4/50-------\n",
      "-- Score: 0\n",
      "-- Total Actions Taken: 2001\n",
      "-------Game: 5/50-------\n",
      "-- Score: 0\n",
      "-- Total Actions Taken: 2061\n",
      "-------Game: 6/50-------\n",
      "-- Score: 0\n",
      "-- Total Actions Taken: 2066\n",
      "-------Game: 7/50-------\n",
      "-- Score: 0\n",
      "-- Total Actions Taken: 2086\n",
      "-------Game: 8/50-------\n",
      "-- Score: 0\n",
      "-- Total Actions Taken: 2086\n",
      "-------Game: 9/50-------\n",
      "-- Score: 8\n",
      "-- Total Actions Taken: 11526\n",
      "-------Game: 10/50-------\n",
      "-- Score: 1\n",
      "-- Total Actions Taken: 3397\n",
      "-------Game: 11/50-------\n",
      "-- Score: 0\n",
      "-- Total Actions Taken: 2006\n",
      "-------Game: 12/50-------\n",
      "-- Score: 2\n",
      "-- Total Actions Taken: 2937\n",
      "-------Game: 13/50-------\n",
      "-- Score: 2\n",
      "-- Total Actions Taken: 3013\n",
      "-------Game: 14/50-------\n",
      "-- Score: 1\n",
      "-- Total Actions Taken: 3327\n",
      "-------Game: 15/50-------\n",
      "-- Score: 0\n",
      "-- Total Actions Taken: 2091\n",
      "-------Game: 16/50-------\n",
      "-- Score: 0\n",
      "-- Total Actions Taken: 2066\n",
      "-------Game: 17/50-------\n",
      "-- Score: 2\n",
      "-- Total Actions Taken: 4241\n",
      "-------Game: 18/50-------\n",
      "-- Score: 0\n",
      "-- Total Actions Taken: 2021\n",
      "-------Game: 19/50-------\n",
      "-- Score: 0\n",
      "-- Total Actions Taken: 2006\n",
      "-------Game: 20/50-------\n",
      "-- Score: 6\n",
      "-- Total Actions Taken: 6256\n",
      "-------Game: 21/50-------\n"
     ]
    }
   ],
   "source": [
    "rewards_all_episodes = []\n",
    "all_actions_taken = []\n",
    "no_of_actions_each_episode = []\n",
    "for episode in range(num_episodes):\n",
    "\n",
    "    print(f\"-------Game: {episode+1}/{num_episodes}-------\")\n",
    "    env = TankKills(600,600)\n",
    "    running = True\n",
    "    reward_current_episode = 0\n",
    "    state = 300*400\n",
    "    time.sleep(0.4)\n",
    "    reward = 0\n",
    "    action_taken_in_episode = 0\n",
    "    actions_taken_in_episode  = []\n",
    "    while running:\n",
    "\n",
    "        reward = 0\n",
    "        exploration_rate_threshold = random.uniform(0,1)\n",
    "        if exploration_rate_threshold > exploration_rate:\n",
    "            action = np.argmax(q_table[state,:])\n",
    "        else:\n",
    "            action = random.randint(0,3)\n",
    "        \n",
    "        all_actions_taken.append(action)\n",
    "        actions_taken_in_episode.append(action)\n",
    "        action_taken_in_episode += 1\n",
    "        running,reward,score,pp,ep = env.play(action=all_actions[action])\n",
    "        pygame.display.update()\n",
    "        # keyboard.press(ins[action])\n",
    "        # keyboard.release(ins[action])\n",
    "        new_state = int(pp[0])*int(pp[1])\n",
    "        q_table[state,action] = q_table[state,action] * (1-learning_rate) + learning_rate*(reward+discount_factor*np.max(q_table[new_state,:]))\n",
    "        state = new_state\n",
    "        reward_current_episode += reward\n",
    "        if not running:\n",
    "            pygame.display.quit()\n",
    "            break\n",
    "        \n",
    "        exploration_rate = min_exploration_rate+(max_exploration_rate-min_exploration_rate)*np.exp(-exploration_decay_rate*episode)\n",
    "    \n",
    "    # Tensorboard stuff\n",
    "\n",
    "    writer.add_scalar('Score',score,episode)\n",
    "    writer.add_scalar('Rewards',reward_current_episode,episode)\n",
    "    writer.add_scalar('No. of actions',action_taken_in_episode,episode)\n",
    "    writer.add_histogram('Actions Taken',np.array(actions_taken_in_episode))\n",
    "\n",
    "    writer.close()\n",
    "    rewards_all_episodes.append(reward_current_episode)\n",
    "    no_of_actions_each_episode.append(action_taken_in_episode)\n",
    "    print(f\"-- Score: {score}\")\n",
    "    print(f\"-- Total Actions Taken: {action_taken_in_episode}\")\n",
    "    pygame.display.quit()"
   ]
  },
  {
   "cell_type": "code",
   "execution_count": null,
   "metadata": {},
   "outputs": [],
   "source": [
    "pygame.display.quit()"
   ]
  },
  {
   "cell_type": "code",
   "execution_count": null,
   "metadata": {},
   "outputs": [],
   "source": [
    "data = {}\n",
    "data['q_table'] = q_table.tolist()\n",
    "with open('q_table_2.json','w') as f:\n",
    "    json.dump(data,f)\n"
   ]
  },
  {
   "attachments": {},
   "cell_type": "markdown",
   "metadata": {},
   "source": [
    "### Q Table values of spawn location"
   ]
  },
  {
   "cell_type": "code",
   "execution_count": 30,
   "metadata": {},
   "outputs": [
    {
     "name": "stdout",
     "output_type": "stream",
     "text": [
      "[-22.41963688 -22.05406653 -22.10745302 -23.17957118]\n"
     ]
    }
   ],
   "source": [
    "print(q_table[300*400])"
   ]
  },
  {
   "attachments": {},
   "cell_type": "markdown",
   "metadata": {},
   "source": [
    "### Rewards per game"
   ]
  },
  {
   "cell_type": "code",
   "execution_count": 31,
   "metadata": {},
   "outputs": [
    {
     "data": {
      "image/png": "[encoded data removed]",
      "text/plain": [
       "<Figure size 640x480 with 1 Axes>"
      ]
     },
     "metadata": {},
     "output_type": "display_data"
    }
   ],
   "source": [
    "plt.plot(rewards_all_episodes)\n",
    "plt.show()"
   ]
  },
  {
   "attachments": {},
   "cell_type": "markdown",
   "metadata": {},
   "source": [
    "### Number of actions each game"
   ]
  },
  {
   "cell_type": "code",
   "execution_count": 32,
   "metadata": {},
   "outputs": [
    {
     "data": {
      "image/png": "[encoded data removed]",
      "text/plain": [
       "<Figure size 640x480 with 1 Axes>"
      ]
     },
     "metadata": {},
     "output_type": "display_data"
    }
   ],
   "source": [
    "plt.plot(no_of_actions_each_episode)\n",
    "plt.show()"
   ]
  },
  {
   "attachments": {},
   "cell_type": "markdown",
   "metadata": {},
   "source": [
    "### Distribution of all actions"
   ]
  },
  {
   "cell_type": "code",
   "execution_count": 33,
   "metadata": {},
   "outputs": [
    {
     "data": {
      "image/png": "[encoded data removed]",
      "text/plain": [
       "<Figure size 640x480 with 1 Axes>"
      ]
     },
     "metadata": {},
     "output_type": "display_data"
    }
   ],
   "source": [
    "plt.hist(all_actions_taken)\n",
    "plt.show()"
   ]
  }
 ],
 "metadata": {
  "kernelspec": {
   "display_name": "Python 3",
   "language": "python",
   "name": "python3"
  },
  "language_info": {
   "codemirror_mode": {
    "name": "ipython",
    "version": 3
   },
   "file_extension": ".py",
   "mimetype": "text/x-python",
   "name": "python",
   "nbconvert_exporter": "python",
   "pygments_lexer": "ipython3",
   "version": "3.10.8"
  },
  "orig_nbformat": 4
 },
 "nbformat": 4,
 "nbformat_minor": 2
}
